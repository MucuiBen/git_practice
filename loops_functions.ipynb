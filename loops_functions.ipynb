{
  "nbformat": 4,
  "nbformat_minor": 0,
  "metadata": {
    "colab": {
      "provenance": []
    },
    "kernelspec": {
      "name": "python3",
      "display_name": "Python 3"
    },
    "language_info": {
      "name": "python"
    }
  },
  "cells": [
    {
      "cell_type": "code",
      "execution_count": 1,
      "metadata": {
        "id": "Cf4l5XjJnGiB"
      },
      "outputs": [],
      "source": [
        "import random\n"
      ]
    },
    {
      "cell_type": "code",
      "source": [
        "names=[]\n",
        "for i in range(1,51):\n",
        "   names.append(\"student_\"+str(+i))\n",
        "print(names)"
      ],
      "metadata": {
        "colab": {
          "base_uri": "https://localhost:8080/"
        },
        "id": "idNkADPiqWN0",
        "outputId": "bacff4ba-0be7-473e-c190-5634991a304f"
      },
      "execution_count": 7,
      "outputs": [
        {
          "output_type": "stream",
          "name": "stdout",
          "text": [
            "['student_1', 'student_2', 'student_3', 'student_4', 'student_5', 'student_6', 'student_7', 'student_8', 'student_9', 'student_10', 'student_11', 'student_12', 'student_13', 'student_14', 'student_15', 'student_16', 'student_17', 'student_18', 'student_19', 'student_20', 'student_21', 'student_22', 'student_23', 'student_24', 'student_25', 'student_26', 'student_27', 'student_28', 'student_29', 'student_30', 'student_31', 'student_32', 'student_33', 'student_34', 'student_35', 'student_36', 'student_37', 'student_38', 'student_39', 'student_40', 'student_41', 'student_42', 'student_43', 'student_44', 'student_45', 'student_46', 'student_47', 'student_48', 'student_49', 'student_50']\n"
          ]
        }
      ]
    },
    {
      "cell_type": "code",
      "source": [
        "random.seed(3)\n",
        "birth_year=[]\n",
        "for i in range(50):\n",
        "   birth_year.append(random.randint(1988,2002))\n",
        "print(birth_year)"
      ],
      "metadata": {
        "colab": {
          "base_uri": "https://localhost:8080/"
        },
        "id": "v-Z9crUCs-jT",
        "outputId": "16f2f768-b228-4d60-8347-450db7329898"
      },
      "execution_count": 13,
      "outputs": [
        {
          "output_type": "stream",
          "name": "stdout",
          "text": [
            "[1991, 1997, 1996, 1990, 1993, 2002, 1997, 1995, 1998, 1997, 1989, 1997, 1988, 2002, 2001, 1995, 1992, 1996, 1991, 1991, 1999, 1995, 1996, 2001, 1996, 1995, 1994, 1998, 2001, 1990, 1991, 1998, 1990, 2001, 2002, 1996, 1994, 1999, 1988, 1998, 2000, 1989, 1990, 2000, 1997, 1988, 1992, 2000, 1988, 2001]\n"
          ]
        }
      ]
    },
    {
      "cell_type": "code",
      "source": [
        "students_attitude=[]\n",
        "num=0\n",
        "while num<50:\n",
        "     students_attitude.append(random.choice([\"positive\",\"neutral\",\"negative\"]))\n",
        "     num+=1\n",
        "print(students_attitude)\n",
        "print(len(students_attitude))"
      ],
      "metadata": {
        "colab": {
          "base_uri": "https://localhost:8080/"
        },
        "id": "pkN0b2i6vyUP",
        "outputId": "b3d14acc-b838-41c6-9172-2fc382304740"
      },
      "execution_count": 16,
      "outputs": [
        {
          "output_type": "stream",
          "name": "stdout",
          "text": [
            "['negative', 'negative', 'neutral', 'neutral', 'positive', 'positive', 'neutral', 'negative', 'neutral', 'positive', 'neutral', 'positive', 'neutral', 'positive', 'positive', 'neutral', 'neutral', 'neutral', 'positive', 'positive', 'negative', 'negative', 'positive', 'neutral', 'negative', 'negative', 'neutral', 'negative', 'neutral', 'negative', 'positive', 'positive', 'neutral', 'positive', 'positive', 'positive', 'negative', 'negative', 'positive', 'positive', 'neutral', 'neutral', 'negative', 'neutral', 'positive', 'negative', 'positive', 'neutral', 'neutral', 'neutral']\n",
            "50\n"
          ]
        }
      ]
    },
    {
      "cell_type": "code",
      "source": [
        "random.seed(3)\n",
        "student_scores=[]\n",
        "for i in range(50):\n",
        "   student_scores.append(random.randint(1,100))\n",
        "print(student_scores)"
      ],
      "metadata": {
        "colab": {
          "base_uri": "https://localhost:8080/"
        },
        "id": "Vfk6uD1gx4NX",
        "outputId": "330d1b88-a36b-4015-c750-19025f9e9665"
      },
      "execution_count": 17,
      "outputs": [
        {
          "output_type": "stream",
          "name": "stdout",
          "text": [
            "[31, 76, 70, 17, 48, 78, 61, 81, 75, 9, 78, 2, 61, 34, 71, 30, 25, 92, 61, 70, 71, 61, 51, 82, 20, 30, 82, 20, 67, 50, 95, 2, 86, 100, 9, 21, 98, 76, 6, 39, 100, 4, 35, 61, 77, 93, 50, 92, 55, 51]\n"
          ]
        }
      ]
    }
  ]
}